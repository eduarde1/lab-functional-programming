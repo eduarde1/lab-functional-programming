{
 "cells": [
  {
   "cell_type": "markdown",
   "metadata": {},
   "source": [
    "In the cell below, create a Python function that wraps your previous solution for the Bag of Words lab.\n",
    "\n",
    "Requirements:\n",
    "\n",
    "1. Your function should accept the following parameters:\n",
    "    * `docs` [REQUIRED] - array of document paths.\n",
    "    * `stop_words` [OPTIONAL] - array of stop words. The default value is an empty array.\n",
    "\n",
    "1. Your function should return a Python object that contains the following:\n",
    "    * `bag_of_words` - array of strings of normalized unique words in the corpus.\n",
    "    * `term_freq` - array of the term-frequency vectors."
   ]
  },
  {
   "cell_type": "code",
   "execution_count": 70,
   "metadata": {},
   "outputs": [],
   "source": [
    "# Import required libraries\n",
    "import re\n",
    "import os\n",
    "os.chdir('/Users/Eduardo/lab-string-operations/your-code')\n",
    "\n",
    "# Define function\n",
    "def get_bow_from_docs(docs, stop_words=[]):\n",
    "     \n",
    "    \n",
    "    # In the function, first define the variables you will use such as `corpus`, `bag_of_words`, and `term_freq`.\n",
    "    corpus = []\n",
    "    bag_of_words = []\n",
    "    term_freq = []\n",
    "    \n",
    "    \n",
    "    \n",
    "    \"\"\"\n",
    "    Loop `docs` and read the content of each doc into a string in `corpus`.\n",
    "    Remember to convert the doc content to lowercases and remove punctuation.\n",
    "    \"\"\"\n",
    "               \n",
    "    for doc in docs:\n",
    "        with open(doc, \"r\") as f:\n",
    "            lines = f.readlines()\n",
    "            for line in lines:\n",
    "                corpus.append(line)\n",
    "    \n",
    "    \"\"\"\n",
    "    Loop `corpus`. Append the terms in each doc into the `bag_of_words` array. The terms in `bag_of_words` \n",
    "    should be unique which means before adding each term you need to check if it's already added to the array.\n",
    "    In addition, check if each term is in the `stop_words` array. Only append the term to `bag_of_words`\n",
    "    if it is not a stop word.\n",
    "    \"\"\"\n",
    "    \n",
    "    corpus = [' '.join(re.findall(r'[A-Za-z]+',x)) for x in corpus]\n",
    "   \n",
    "\n",
    "    \n",
    "    for sentence in corpus:\n",
    "        words = sentence.split()\n",
    "        for word in words:\n",
    "            if word.lower() not in bag_of_words and word.lower() not in stop_words:\n",
    "                bag_of_words.append(word.lower())\n",
    "\n",
    "    \n",
    "    \n",
    "    \"\"\"\n",
    "    Loop `corpus` again. For each doc string, count the number of occurrences of each term in `bag_of_words`. \n",
    "    Create an array for each doc's term frequency and append it to `term_freq`.\n",
    "    \"\"\"\n",
    "       \n",
    "    for sentence in corpus:\n",
    "        term_frecuency = []\n",
    "        for word in bag_of_words:\n",
    "            term_frecuency.append(sentence.lower().split().count(word.lower()))\n",
    "        term_freq.append(term_frecuency)\n",
    "            \n",
    "    \n",
    "    # Now return your output as an object\n",
    "    return {\n",
    "        \"bag_of_words\": bag_of_words,\n",
    "        \"term_freq\": term_freq\n",
    "    }\n",
    "    "
   ]
  },
  {
   "cell_type": "markdown",
   "metadata": {},
   "source": [
    "Test your function without stop words. You should see the output like below:\n",
    "\n",
    "```{'bag_of_words': ['ironhack', 'is', 'cool', 'i', 'love', 'am', 'a', 'student', 'at'], 'term_freq': [[1, 1, 1, 0, 0, 0, 0, 0, 0], [1, 0, 0, 1, 1, 0, 0, 0, 0], [1, 0, 0, 1, 0, 1, 1, 1, 1]]}```"
   ]
  },
  {
   "cell_type": "code",
   "execution_count": 74,
   "metadata": {},
   "outputs": [
    {
     "name": "stdout",
     "output_type": "stream",
     "text": [
      "{'bag_of_words': ['ironhack', 'is', 'cool', 'i', 'love', 'am', 'a', 'student', 'at'], 'term_freq': [[1, 1, 1, 0, 0, 0, 0, 0, 0], [1, 0, 0, 1, 1, 0, 0, 0, 0], [1, 0, 0, 1, 0, 1, 1, 1, 1]]}\n"
     ]
    }
   ],
   "source": [
    "# Define doc paths array\n",
    "docs = ['doc1.txt', 'doc2.txt', 'doc3.txt']\n",
    "\n",
    "# Obtain BoW from your function\n",
    "bow = get_bow_from_docs(docs)\n",
    "\n",
    "# Print BoW\n",
    "print(bow)"
   ]
  },
  {
   "cell_type": "markdown",
   "metadata": {},
   "source": [
    "If your attempt above is successful, nice work done!\n",
    "\n",
    "Now test your function again with the stop words. In the previous lab we defined the stop words in a large array. In this lab, we'll import the stop words from Scikit-Learn."
   ]
  },
  {
   "cell_type": "code",
   "execution_count": 75,
   "metadata": {
    "scrolled": true
   },
   "outputs": [
    {
     "name": "stdout",
     "output_type": "stream",
     "text": [
      "Collecting sklearn\n",
      "  Downloading https://files.pythonhosted.org/packages/1e/7a/dbb3be0ce9bd5c8b7e3d87328e79063f8b263b2b1bfa4774cb1147bfcd3f/sklearn-0.0.tar.gz\n",
      "Requirement already satisfied: scikit-learn in c:\\users\\eduardo\\anaconda3\\lib\\site-packages (from sklearn) (0.20.3)\n",
      "Requirement already satisfied: numpy>=1.8.2 in c:\\users\\eduardo\\anaconda3\\lib\\site-packages (from scikit-learn->sklearn) (1.16.2)\n",
      "Requirement already satisfied: scipy>=0.13.3 in c:\\users\\eduardo\\anaconda3\\lib\\site-packages (from scikit-learn->sklearn) (1.2.1)\n",
      "Building wheels for collected packages: sklearn\n",
      "  Building wheel for sklearn (setup.py): started\n",
      "  Building wheel for sklearn (setup.py): finished with status 'done'\n",
      "  Stored in directory: C:\\Users\\Eduardo\\AppData\\Local\\pip\\Cache\\wheels\\76\\03\\bb\\589d421d27431bcd2c6da284d5f2286c8e3b2ea3cf1594c074\n",
      "Successfully built sklearn\n",
      "Installing collected packages: sklearn\n",
      "Successfully installed sklearn-0.0\n",
      "frozenset({'con', 'your', 'both', 'could', 'his', 'whereby', 'so', 'be', 'on', 'namely', 'other', 'sometimes', 'being', 'during', 'thereupon', 'top', 'thus', 'had', 'last', 'again', 'she', 'i', 'how', 'couldnt', 'yourself', 'never', 'everyone', 'why', 'must', 'by', 'him', 'them', 'some', 'where', 'fire', 'can', 'eleven', 'hereby', 'six', 'am', 'take', 'behind', 'have', 'others', 'through', 'nor', 'would', 'side', 'eg', 'amount', 'whereas', 'becomes', 'cant', 'nine', 'former', 'even', 'further', 'else', 'thereafter', 'will', 'yourselves', 'as', 'cannot', 'upon', 'whom', 'either', 'moreover', 'becoming', 'hereafter', 'below', 'the', 'you', 'about', 'mostly', 'besides', 'nobody', 'from', 'with', 'already', 'our', 'detail', 'this', 'before', 'etc', 'most', 'although', 'keep', 'for', 'mill', 'get', 'found', 'herself', 'himself', 'two', 'least', 'thick', 'very', 'few', 'whereafter', 'twenty', 'anything', 'thereby', 'which', 'beside', 'mine', 'except', 'go', 'ours', 'us', 'anyone', 'thence', 'whoever', 'towards', 'are', 'and', 'whose', 'elsewhere', 'or', 'no', 'sixty', 'themselves', 'within', 'latterly', 'together', 'many', 'whenever', 'un', 'nowhere', 'seeming', 'none', 'nevertheless', 'latter', 'might', 'less', 'over', 'de', 'give', 'perhaps', 'wherein', 'ourselves', 'part', 'wherever', 'they', 'neither', 'seemed', 'serious', 'because', 'much', 'everywhere', 'formerly', 'interest', 'along', 'among', 'whereupon', 'to', 'bottom', 'off', 'eight', 'also', 'it', 'hasnt', 'hundred', 'than', 'beyond', 'everything', 'here', 'nothing', 'though', 'become', 'more', 'three', 'is', 'whither', 'until', 'anywhere', 'put', 'another', 'hers', 'its', 'each', 're', 'of', 'please', 'that', 'ten', 'every', 'throughout', 'enough', 'whatever', 'show', 'well', 'now', 'ie', 'at', 'ever', 'we', 'anyway', 'always', 'into', 'without', 'was', 'after', 'yours', 'only', 'once', 'seems', 'thin', 'hereupon', 'third', 'move', 'in', 'since', 'via', 'somehow', 'something', 'meanwhile', 'same', 'due', 'almost', 'sometime', 'cry', 'bill', 'not', 'ltd', 'me', 'empty', 'what', 'my', 'such', 'above', 'he', 'when', 'became', 'but', 'amongst', 'system', 'own', 'around', 'myself', 'indeed', 'still', 'alone', 'afterwards', 'itself', 'back', 'beforehand', 'describe', 'who', 'noone', 'whole', 'fifteen', 'has', 'first', 'too', 'do', 'her', 'one', 'against', 'seem', 'somewhere', 'twelve', 'under', 'next', 'between', 'all', 'may', 'name', 'should', 'sincere', 'five', 'were', 'call', 'across', 'fifty', 'inc', 'a', 'done', 'any', 'if', 'onto', 'fill', 'rather', 'therein', 'four', 'an', 'up', 'therefore', 'toward', 'often', 'thru', 'yet', 'while', 'those', 'anyhow', 'there', 'full', 'amoungst', 'find', 'herein', 'their', 'co', 'front', 'otherwise', 'someone', 'hence', 'then', 'whether', 'however', 'forty', 'made', 'per', 'down', 'been', 'whence', 'out', 'several', 'these', 'see'})\n"
     ]
    }
   ],
   "source": [
    "import sys\n",
    "!{sys.executable} -m pip install sklearn\n",
    "from sklearn.feature_extraction import stop_words\n",
    "print(stop_words.ENGLISH_STOP_WORDS)"
   ]
  },
  {
   "cell_type": "markdown",
   "metadata": {},
   "source": [
    "You should have seen a large list of words that looks like:\n",
    "\n",
    "```frozenset({'across', 'mine', 'cannot', ...})```\n",
    "\n",
    "`frozenset` is a type of Python object that is immutable. In this lab you can use it just like an array without conversion."
   ]
  },
  {
   "cell_type": "markdown",
   "metadata": {},
   "source": [
    "Next, test your function with supplying `stop_words.ENGLISH_STOP_WORDS` as the second parameter."
   ]
  },
  {
   "cell_type": "code",
   "execution_count": 78,
   "metadata": {
    "scrolled": true
   },
   "outputs": [
    {
     "name": "stdout",
     "output_type": "stream",
     "text": [
      "{'bag_of_words': ['ironhack', 'cool', 'love', 'student'], 'term_freq': [[1, 1, 0, 0], [1, 0, 1, 0], [1, 0, 0, 1]]}\n"
     ]
    }
   ],
   "source": [
    "bow = get_bow_from_docs(docs, stop_words.ENGLISH_STOP_WORDS)\n",
    "\n",
    "print(bow)"
   ]
  },
  {
   "cell_type": "markdown",
   "metadata": {},
   "source": [
    "You should have seen:\n",
    "\n",
    "```{'bag_of_words': ['ironhack', 'cool', 'love', 'student'], 'term_freq': [[1, 1, 0, 0], [1, 0, 1, 0], [1, 0, 0, 1]]}```"
   ]
  }
 ],
 "metadata": {
  "kernelspec": {
   "display_name": "Python 3",
   "language": "python",
   "name": "python3"
  },
  "language_info": {
   "codemirror_mode": {
    "name": "ipython",
    "version": 3
   },
   "file_extension": ".py",
   "mimetype": "text/x-python",
   "name": "python",
   "nbconvert_exporter": "python",
   "pygments_lexer": "ipython3",
   "version": "3.7.3"
  }
 },
 "nbformat": 4,
 "nbformat_minor": 2
}
